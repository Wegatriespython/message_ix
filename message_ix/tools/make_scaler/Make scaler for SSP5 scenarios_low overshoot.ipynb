{
 "cells": [
  {
   "cell_type": "markdown",
   "metadata": {},
   "source": [
    "# Using scaling tool in global model with SSP5 scenario"
   ]
  },
  {
   "cell_type": "code",
   "execution_count": 1,
   "metadata": {},
   "outputs": [],
   "source": [
    "import pandas as pd\n",
    "import ixmp\n",
    "import message_ix\n",
    "import os\n",
    "\n",
    "from message_ix.tools.lp_diag import LPdiag\n",
    "from message_ix.tools.make_scaler import make_scaler\n",
    "from message_ix.tools.make_scaler import show_range\n",
    "from message_ix.tools.make_scaler import get_scaler_args\n",
    "\n",
    "from message_ix.util import make_df\n",
    "\n",
    "%matplotlib inline\n",
    "\n",
    "lp = LPdiag()\n",
    "mp = ixmp.Platform()"
   ]
  },
  {
   "cell_type": "markdown",
   "metadata": {},
   "source": [
    "## Calling scenario used as default scaler"
   ]
  },
  {
   "cell_type": "code",
   "execution_count": 2,
   "metadata": {},
   "outputs": [],
   "source": [
    "ssp = \"SSP5\"\n",
    "base = message_ix.Scenario(mp, model=f\"ScalingSSP_{ssp}_v1.0\", scenario=\"baseline_DEFAULT\")"
   ]
  },
  {
   "cell_type": "markdown",
   "metadata": {},
   "source": [
    "## Run scenarios with scaled matrix\n",
    "\n",
    "Results: solution time 131.45s"
   ]
  },
  {
   "cell_type": "code",
   "execution_count": 3,
   "metadata": {},
   "outputs": [],
   "source": [
    "model_name = f\"SSP_{ssp}_v2.1\"\n",
    "scen_name = f\"{ssp} - Low Overshoot\"\n",
    "sc_name = f\"{ssp} - Low Overshoot_ccs-test_scaled\"\n",
    "scen = message_ix.Scenario(mp, model=model_name, scenario=scen_name)\n",
    "sc = scen.clone(\n",
    "    model_name,\n",
    "    sc_name,\n",
    "    \"solve scenario with scaler\",\n",
    "    keep_solution=False,\n",
    ")\n",
    "sc.check_out()\n",
    "\n",
    "sc.commit(comment=\"solve scenario with scaler\")\n",
    "sc.set_as_default()"
   ]
  },
  {
   "cell_type": "code",
   "execution_count": 4,
   "metadata": {},
   "outputs": [],
   "source": [
    "argument = get_scaler_args(base)\n",
    "\n",
    "sc.solve(solve_options={\"advind\": \"determined by GAMS Bratio\",\n",
    "                         \"epopt\": \"1.0e-06\",\n",
    "                         \"lpmethod\": \"0\",\n",
    "                         \"scaind\": \"0\",}, \n",
    "         gams_args=[argument])"
   ]
  },
  {
   "cell_type": "code",
   "execution_count": 5,
   "metadata": {},
   "outputs": [
    {
     "data": {
      "text/plain": [
       "3587208.25"
      ]
     },
     "execution_count": 5,
     "metadata": {},
     "output_type": "execute_result"
    }
   ],
   "source": [
    "sc.var(\"OBJ\")[\"lvl\"]"
   ]
  },
  {
   "cell_type": "markdown",
   "metadata": {},
   "source": [
    "# Original LOS scenario"
   ]
  },
  {
   "cell_type": "code",
   "execution_count": 6,
   "metadata": {},
   "outputs": [],
   "source": [
    "sc_orig = scen.clone(\n",
    "    model_name,\n",
    "    f\"{ssp} - Low Overshoot_ccs-test_unscaled\",\n",
    "    \"solve scenario without scaler\",\n",
    "    keep_solution=False,\n",
    ")\n",
    "sc_orig.check_out()\n",
    "\n",
    "sc_orig.commit(comment=\"solve scenario with scaler\")\n",
    "sc_orig.set_as_default()\n",
    "\n",
    "sc_orig.solve()"
   ]
  },
  {
   "cell_type": "markdown",
   "metadata": {},
   "source": [
    "## Close the connection to the database"
   ]
  },
  {
   "cell_type": "code",
   "execution_count": 7,
   "metadata": {},
   "outputs": [],
   "source": [
    "mp.close_db()"
   ]
  },
  {
   "cell_type": "code",
   "execution_count": null,
   "metadata": {},
   "outputs": [],
   "source": []
  }
 ],
 "metadata": {
  "kernelspec": {
   "display_name": "Python 3 (ipykernel)",
   "language": "python",
   "name": "python3"
  },
  "language_info": {
   "codemirror_mode": {
    "name": "ipython",
    "version": 3
   },
   "file_extension": ".py",
   "mimetype": "text/x-python",
   "name": "python",
   "nbconvert_exporter": "python",
   "pygments_lexer": "ipython3",
   "version": "3.10.9"
  }
 },
 "nbformat": 4,
 "nbformat_minor": 2
}
