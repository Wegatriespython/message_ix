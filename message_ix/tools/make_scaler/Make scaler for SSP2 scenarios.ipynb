{
 "cells": [
  {
   "cell_type": "markdown",
   "metadata": {},
   "source": [
    "# Using scaling tool in global model with SSP2 scenario"
   ]
  },
  {
   "cell_type": "code",
   "execution_count": 1,
   "metadata": {},
   "outputs": [],
   "source": [
    "import pandas as pd\n",
    "import ixmp\n",
    "import message_ix\n",
    "import os\n",
    "\n",
    "from message_ix.tools.lp_diag import LPdiag\n",
    "from message_ix.tools.make_scaler import make_scaler\n",
    "from message_ix.tools.make_scaler import show_range\n",
    "from message_ix.tools.make_scaler import get_scaler_args\n",
    "\n",
    "from message_ix.util import make_df\n",
    "\n",
    "%matplotlib inline\n",
    "\n",
    "lp = LPdiag()\n",
    "mp = ixmp.Platform()"
   ]
  },
  {
   "cell_type": "raw",
   "metadata": {},
   "source": [
    "df = mp.scenario_list()"
   ]
  },
  {
   "cell_type": "raw",
   "metadata": {},
   "source": [
    "df[df[\"model\"]==\"SSP_SSP2_development\"]"
   ]
  },
  {
   "cell_type": "markdown",
   "metadata": {},
   "source": [
    "## Making a clone of the existing scenario 'baseline'"
   ]
  },
  {
   "cell_type": "raw",
   "metadata": {},
   "source": [
    "ssp = \"SSP2\"\n",
    "base = message_ix.Scenario(mp, model=f\"SSP_{ssp}_development\", scenario=\"baseline_DEFAULT_step_15\")\n",
    "\n",
    "# creating unscaled scenario\n",
    "model_name = f\"ScalingSSP_{ssp}_development\"\n",
    "scenario_name = f\"baseline_DEFAULT_step_15_ywp\"\n",
    "scen = base.clone(\n",
    "    model_name,\n",
    "    scenario_name,\n",
    "    f\"unscaled {ssp} model\",\n",
    "    keep_solution = False,)\n",
    "\n",
    "scen.check_out()"
   ]
  },
  {
   "cell_type": "markdown",
   "metadata": {},
   "source": [
    "## Time to Solve the Model\n",
    "\n",
    "Solution time: 48.14s"
   ]
  },
  {
   "cell_type": "raw",
   "metadata": {},
   "source": [
    "scen.commit(comment= f\"unscaled {ssp} scenario\")\n",
    "scen.set_as_default()\n",
    "\n",
    "current_directory = os.getcwd()\n",
    "mps_dir = os.path.join(current_directory, f\"{model_name}_{scenario_name}.mps\")"
   ]
  },
  {
   "cell_type": "raw",
   "metadata": {},
   "source": [
    "scen.solve(solve_options={'barcrossalg': '2',\n",
    "                          'scaind':'-1',\n",
    "                          \"writemps\": mps_dir,\n",
    "                         })\n",
    "scen.var(\"OBJ\")[\"lvl\"]"
   ]
  },
  {
   "cell_type": "markdown",
   "metadata": {},
   "source": [
    "Using the unscaled scenario above, we make scaler arguments to solve scenario with scaled matrix coefficients"
   ]
  },
  {
   "cell_type": "code",
   "execution_count": null,
   "metadata": {},
   "outputs": [],
   "source": [
    "file_name = f\"ScalingSSP_SSP2_development_baseline_DEFAULT_step_15_ywp\"\n",
    "file_loc = f\"C:/Users/pratama/Documents/GitHub/MESSAGEix/message_ix/message_ix/tools/make_scaler/{file_name}.mps\""
   ]
  },
  {
   "cell_type": "code",
   "execution_count": null,
   "metadata": {
    "scrolled": false
   },
   "outputs": [],
   "source": [
    "import re\n",
    "\n",
    "regex = re.compile(r'^([^&]*)(&)([^&]*)(&)([^&]*)')\n",
    "\n",
    "#with open(file_loc, 'r+') as f:\n",
    "#    old = f.readlines() # Pull the file contents to a list\n",
    "#    f.seek(0)           # Jump to start, so we overwrite instead of appending\n",
    "#    for line in old:\n",
    "#        f.write(line.replace(\"'\",\"\"))\n",
    "\n",
    "#with open(file_loc, 'r+') as f:\n",
    "#    old = f.readlines() # Pull the file contents to a list\n",
    "#    f.seek(0)           # Jump to start, so we overwrite instead of appending\n",
    "#    for line in old:\n",
    "#        f.write(line.replace(\" Burning\",\"_Burning\"))\n",
    "\n",
    "#with open(file_loc, 'r+') as f:\n",
    "#    old = f.readlines() # Pull the file contents to a list\n",
    "#    f.seek(0)           # Jump to start, so we overwrite instead of appending\n",
    "#    for line in old:\n",
    "#        f.write(line.replace(\"Fertilizer Use\",\"Fertilizer_Use\"))\n",
    "        \n",
    "with open(file_loc, 'r+') as f:\n",
    "    old = f.readlines() # Pull the file contents to a list\n",
    "    f.seek(0)           # Jump to start, so we overwrite instead of appending\n",
    "    for line in old:\n",
    "        f.write(line.replace(\"Agricultural Waste\",\"Agricultural_Waste\"))\n",
    "        \n",
    "        \n",
    "        "
   ]
  },
  {
   "cell_type": "code",
   "execution_count": 2,
   "metadata": {},
   "outputs": [],
   "source": [
    "ssp = \"SSP2\"\n",
    "model_name = f\"ScalingSSP_{ssp}_development\"\n",
    "scenario_name = f\"baseline_DEFAULT_step_15_ywp\"\n",
    "scen = message_ix.Scenario(mp, model=model_name, scenario=scenario_name)\n"
   ]
  },
  {
   "cell_type": "code",
   "execution_count": 3,
   "metadata": {},
   "outputs": [
    {
     "name": "stdout",
     "output_type": "stream",
     "text": [
      "\n",
      "Reading MPS-format file C:\\Users\\pratama\\Documents\\GitHub\\MESSAGEix\\message_ix\\message_ix\\tools\\make_scaler\\ScalingSSP_SSP2_development_baseline_DEFAULT_step_15_ywp.mps.\n",
      "Next section found: NAME          gamsmodel (line 1).\n",
      "\tProblem name: gamsmodel.\n",
      "Next section found: ROWS (line 2).\n",
      "\tRow _obj (row_seq = 0) is the objective (goal function) row.\n",
      "Next section found: COLUMNS (line 1819886).\n",
      "Next section found: RHS (line 8548138).\n",
      "\tId of RHS: rhs\n",
      "Next section found: BOUNDS (line 8615428).\n",
      "\tId of BOUNDS: bnd\n",
      "Next section found: ENDATA (line 9730218).\n",
      "\n",
      "Finished processing 9730218 lines of the MPS file: C:\\Users\\pratama\\Documents\\GitHub\\MESSAGEix\\message_ix\\message_ix\\tools\\make_scaler\\ScalingSSP_SSP2_development_baseline_DEFAULT_step_15_ywp.mps.\n",
      "LP has: 1819883 rows, 1728337 cols, 6728251 non-zeros, matrix density = 2.14e-06.\n",
      "Numbers of redefined: RHS = 67289, ranges = 0, bounds = 1114789.\n",
      "\n",
      "The GF (objective) row named \"_obj\" has 169 elements.\n",
      "Distribution of the GF (objective) values:\n",
      "count    169.000000\n",
      "mean       0.047908\n",
      "std        0.080067\n",
      "min        0.005121\n",
      "25%        0.022131\n",
      "50%        0.036049\n",
      "75%        0.068446\n",
      "max        1.000000\n",
      "Name: val, dtype: float64\n",
      "\n",
      "Unscaled range     : [ -6 | 6 ]\n",
      "Scaled range step 1: [ -4 | 4 ]\n"
     ]
    }
   ],
   "source": [
    "current_directory = os.getcwd()\n",
    "mps_dir = os.path.join(current_directory, f\"{model_name}_{scenario_name}.mps\")\n",
    "scale_df = make_scaler(mps_dir, scen, bounds=4, steps=1)"
   ]
  },
  {
   "cell_type": "code",
   "execution_count": 4,
   "metadata": {},
   "outputs": [],
   "source": [
    "message_loc = \"C:/Users/pratama/Documents/GitHub/MESSAGEix/\"\n",
    "file_name = f\"ScalingSSP_{ssp}_development_baseline_DEFAULT_step_15_ywp\"\n",
    "file_loc = f\"{message_loc}/message_ix/message_ix/model/scaler/MsgScaler_{file_name}.gms\""
   ]
  },
  {
   "cell_type": "raw",
   "metadata": {},
   "source": [
    "import re\n",
    "\n",
    "regex = re.compile(r'^([^&]*)(&)([^&]*)(&)([^&]*)')\n",
    "\n",
    "with open(file_loc, 'r+') as f:\n",
    "    old = f.readlines() # Pull the file contents to a list\n",
    "    f.seek(0)           # Jump to start, so we overwrite instead of appending\n",
    "    for line in old:\n",
    "        f.write(line.replace(\"Fertilizer_Use|Nitrogen\",\"'Fertilizer Use|Nitrogen'\"))"
   ]
  },
  {
   "cell_type": "code",
   "execution_count": 7,
   "metadata": {},
   "outputs": [],
   "source": [
    "import re\n",
    "\n",
    "regex = re.compile(r'^([^&]*)(&)([^&]*)(&)([^&]*)')\n",
    "\n",
    "#with open(file_loc, 'r+') as f:\n",
    "#    old = f.readlines() # Pull the file contents to a list\n",
    "#    f.seek(0)           # Jump to start, so we overwrite instead of appending\n",
    "#    for line in old:\n",
    "#        f.write(line.replace(\"_Burning\",\" Burning\"))\n",
    "\n",
    "#with open(file_loc, 'r+') as f:\n",
    "#    old = f.readlines() # Pull the file contents to a list\n",
    "#    f.seek(0)           # Jump to start, so we overwrite instead of appending\n",
    "#    for line in old:\n",
    "#        f.write(line.replace(\"Fertilizer_Use\",\"Fertilizer Use\"))\n",
    "        \n",
    "#with open(file_loc, 'r+') as f:\n",
    "#    old = f.readlines() # Pull the file contents to a list\n",
    "#    f.seek(0)           # Jump to start, so we overwrite instead of appending\n",
    "#    for line in old:\n",
    "#        f.write(line.replace(\"Agricultural_Waste\",\"Agricultural Waste\"))"
   ]
  },
  {
   "cell_type": "markdown",
   "metadata": {},
   "source": [
    "## Run scenarios with scaled matrix\n",
    "\n",
    "Results: solution time 131.45s"
   ]
  },
  {
   "cell_type": "code",
   "execution_count": null,
   "metadata": {},
   "outputs": [],
   "source": [
    "sc_name = scenario_name+\"-scaled\"\n",
    "sc = scen.clone(\n",
    "    model_name,\n",
    "    sc_name,\n",
    "    \"solve scenario with scaler\",\n",
    "    keep_solution=False,\n",
    ")\n",
    "sc.check_out()\n",
    "\n",
    "sc.commit(comment=\"solve scenario with scaler\")\n",
    "sc.set_as_default()"
   ]
  },
  {
   "cell_type": "code",
   "execution_count": null,
   "metadata": {},
   "outputs": [],
   "source": [
    "argument = get_scaler_args(scen)\n",
    "\n",
    "sc.solve(gams_args=[argument])"
   ]
  },
  {
   "cell_type": "code",
   "execution_count": null,
   "metadata": {},
   "outputs": [],
   "source": [
    "sc.var(\"OBJ\")[\"lvl\"]"
   ]
  },
  {
   "cell_type": "code",
   "execution_count": null,
   "metadata": {},
   "outputs": [],
   "source": [
    "scen.var(\"OBJ\")[\"lvl\"]"
   ]
  },
  {
   "cell_type": "markdown",
   "metadata": {},
   "source": [
    "**Scaled with default GAMS options:**\n",
    "\n",
    "Solution time: 136.92s"
   ]
  },
  {
   "cell_type": "code",
   "execution_count": null,
   "metadata": {},
   "outputs": [],
   "source": [
    "sc1_name = scenario_name+\"-scaled+defaultgams\"\n",
    "sc1 = scen.clone(\n",
    "    model_name,\n",
    "    sc1_name,\n",
    "    \"unscaled daccs scenario with split infrastructure\",\n",
    "    keep_solution=False,\n",
    ")\n",
    "sc1.check_out()\n",
    "\n",
    "\n",
    "argument = get_scaler_args(scen)\n",
    "\n",
    "\n",
    "sc1.solve(solve_options={\"advind\": \"determined by GAMS Bratio\",\n",
    "                         \"epopt\": \"1.0e-06\",\n",
    "                         \"lpmethod\": \"0\",\n",
    "                         \"scaind\": \"0\",\n",
    "                         },\n",
    "           gams_args=[argument])\n",
    "sc1.var(\"OBJ\")[\"lvl\"]"
   ]
  },
  {
   "cell_type": "markdown",
   "metadata": {},
   "source": [
    "**Unscaled with default GAMS settings**\n",
    "\n",
    "Solution time: 121.34sec"
   ]
  },
  {
   "cell_type": "code",
   "execution_count": null,
   "metadata": {},
   "outputs": [],
   "source": [
    "sc2_name = scenario_name+\"-unscaled+defaultgams\"\n",
    "sc2 = scen.clone(\n",
    "    model_name,\n",
    "    sc2_name,\n",
    "    \"unscaled daccs scenario with split infrastructure\",\n",
    "    keep_solution=False,\n",
    ")\n",
    "sc2.check_out()\n",
    "\n",
    "sc2.solve(solve_options={\"advind\": \"determined by GAMS Bratio\",\n",
    "                         \"epopt\": \"1.0e-06\",\n",
    "                         \"lpmethod\": \"0\",\n",
    "                         \"scaind\": \"0\",\n",
    "                         })\n",
    "sc2.var(\"OBJ\")[\"lvl\"]"
   ]
  },
  {
   "cell_type": "markdown",
   "metadata": {},
   "source": [
    "## Close the connection to the database"
   ]
  },
  {
   "cell_type": "code",
   "execution_count": null,
   "metadata": {},
   "outputs": [],
   "source": [
    "mp.close_db()"
   ]
  },
  {
   "cell_type": "code",
   "execution_count": null,
   "metadata": {},
   "outputs": [],
   "source": []
  }
 ],
 "metadata": {
  "kernelspec": {
   "display_name": "Python 3 (ipykernel)",
   "language": "python",
   "name": "python3"
  },
  "language_info": {
   "codemirror_mode": {
    "name": "ipython",
    "version": 3
   },
   "file_extension": ".py",
   "mimetype": "text/x-python",
   "name": "python",
   "nbconvert_exporter": "python",
   "pygments_lexer": "ipython3",
   "version": "3.10.9"
  }
 },
 "nbformat": 4,
 "nbformat_minor": 2
}
